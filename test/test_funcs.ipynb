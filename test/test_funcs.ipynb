{
 "cells": [
  {
   "cell_type": "code",
   "execution_count": 1,
   "metadata": {},
   "outputs": [],
   "source": [
    "from geotool import tools\n",
    "from geotool import raster\n",
    "\n",
    "import rasterio\n",
    "import geopandas as gpd\n",
    "\n",
    "import earthpy.plot as ep"
   ]
  },
  {
   "cell_type": "code",
   "execution_count": 2,
   "metadata": {},
   "outputs": [
    {
     "name": "stdout",
     "output_type": "stream",
     "text": [
      "Open roi.shp \n",
      " crs: EPSG:32648 \n",
      " Data shape (1, 2)\n",
      "Open landsat_img_test.tif \n",
      "{'driver': 'GTiff', 'dtype': 'uint16', 'nodata': None, 'width': 2205, 'height': 815, 'count': 6, 'crs': CRS.from_epsg(32648), 'transform': Affine(30.0, 0.0, 581325.0,\n",
      "       0.0, -30.0, 1145745.0)}\n"
     ]
    }
   ],
   "source": [
    "vect = raster.openVect('./roi/roi.shp')\n",
    "img = raster.openRaster('./landsat_multi/landsat_img_test.tif')"
   ]
  }
 ],
 "metadata": {
  "kernelspec": {
   "display_name": "geors",
   "language": "python",
   "name": "python3"
  },
  "language_info": {
   "codemirror_mode": {
    "name": "ipython",
    "version": 3
   },
   "file_extension": ".py",
   "mimetype": "text/x-python",
   "name": "python",
   "nbconvert_exporter": "python",
   "pygments_lexer": "ipython3",
   "version": "3.11.5"
  }
 },
 "nbformat": 4,
 "nbformat_minor": 2
}
